{
  "nbformat": 4,
  "nbformat_minor": 0,
  "metadata": {
    "colab": {
      "name": "MyProject.ipynb",
      "provenance": [],
      "collapsed_sections": []
    },
    "kernelspec": {
      "name": "python3",
      "display_name": "Python 3"
    },
    "language_info": {
      "name": "python"
    }
  },
  "cells": [
    {
      "cell_type": "markdown",
      "metadata": {
        "id": "oovvjcU6nTOz"
      },
      "source": [
        "**READ DATA FROM JSON**"
      ]
    },
    {
      "cell_type": "code",
      "metadata": {
        "id": "WY-yL4XeQtwY"
      },
      "source": [
        "import json\n",
        "from datetime import datetime"
      ],
      "execution_count": 60,
      "outputs": []
    },
    {
      "cell_type": "code",
      "metadata": {
        "id": "y9z-Fml_beky"
      },
      "source": [
        "fd=open(\"record.json\",'r')\n",
        "txt=fd.read()\n",
        "fd.close()\n",
        "detail=json.loads(txt)"
      ],
      "execution_count": 61,
      "outputs": []
    },
    {
      "cell_type": "code",
      "metadata": {
        "id": "FXGunUD8bexG"
      },
      "source": [
        "\n",
        "detail"
      ],
      "execution_count": null,
      "outputs": []
    },
    {
      "cell_type": "markdown",
      "metadata": {
        "id": "XOUWudO0mz_d"
      },
      "source": [
        "**PURCHASE PRODUCT FROM INVENTORY**\n"
      ]
    },
    {
      "cell_type": "code",
      "metadata": {
        "id": "78gRy99rbezK"
      },
      "source": [
        "prod_id=input(\"Enter the Product Id:\")\n",
        "prod_qu=int(input(\"Enter the Quantity:\"))\n",
        "\n",
        "\n",
        "\n",
        "print(\"Product Name:\", detail[prod_id]['Product Name'])\n",
        "print(\"Product price:\", detail[prod_id]['Rate'])\n",
        "print(f\"Discount on product:{detail[prod_id]['Discount']}%\")\n",
        "print(\"Expiry Date of Product:\", detail[prod_id]['Expiry'])\n",
        "\n",
        "\n",
        "if prod_qu > detail[prod_id]['quantity']:\n",
        "  print(f\"Sorry We Do Not Have This Much Quantity.\\nMaximum Quantity Avaliable {detail[prod_id]['quantity']}\")\n",
        "\n",
        "else:\n",
        "  now=datetime.now()\n",
        "#dd/mm/yyyy H:M:S format\n",
        "  dt_string=now.strftime(\"%d/%m/%Y  %H:%M:%S\")\n",
        "\n",
        "  cost=detail[prod_id]['Rate']*prod_qu\n",
        "\n",
        "  discount=int(detail[prod_id]['Rate']*(detail[prod_id]['Discount']/100))\n",
        "  total_discount=discount*prod_qu\n",
        "  final_amount=cost-total_discount\n",
        "  detail[prod_id]['quantity']=detail[prod_id]['quantity']-prod_qu\n",
        "  print(\"***********************************************\")\n",
        "\n",
        "  print(\"AMOUNT TO PAY:\",final_amount)\n",
        "\n",
        "  print(\"DATE AND TIME:\",dt_string)\n",
        "\n",
        "  print(\"For any issue contact us on: 9161******\")\n",
        "  print(\"************************************************\")\n",
        "\n",
        "  print(\"THANKYOU, VISIT AGAIN!\")\n"
      ],
      "execution_count": null,
      "outputs": []
    },
    {
      "cell_type": "markdown",
      "metadata": {
        "id": "ir1ymOqNnnMt"
      },
      "source": [
        "**UPDATE INVENTORY AFTER PURCHASE**"
      ]
    },
    {
      "cell_type": "code",
      "metadata": {
        "id": "YIWZNylWbe1_"
      },
      "source": [
        "\n",
        "\n",
        "js=json.dumps(detail)\n",
        "fd=open(\"record.json\",'w')\n",
        "fd.write(js)\n",
        "fd.close()\n",
        "\n"
      ],
      "execution_count": 64,
      "outputs": []
    },
    {
      "cell_type": "code",
      "metadata": {
        "id": "9c9B_81euSNa"
      },
      "source": [
        "fd=open(\"record.json\",'r')\n",
        "name=fd.read()\n",
        "fd.close()"
      ],
      "execution_count": 65,
      "outputs": []
    },
    {
      "cell_type": "code",
      "metadata": {
        "id": "UBwmdmg0be5a"
      },
      "source": [
        "name"
      ],
      "execution_count": null,
      "outputs": []
    },
    {
      "cell_type": "markdown",
      "metadata": {
        "id": "7HbTOZxNpNSk"
      },
      "source": [
        "**SALES JSON**"
      ]
    },
    {
      "cell_type": "code",
      "metadata": {
        "id": "3wVspeo3be8C"
      },
      "source": [
        "sales = {1: {'Product id' : prod_id, 'Quantity sold' : prod_qu,'Quantity left':detail[prod_id]['quantity'], 'Amount': detail[prod_id]['Rate'] * prod_qu}}\n",
        "           "
      ],
      "execution_count": 70,
      "outputs": []
    },
    {
      "cell_type": "code",
      "metadata": {
        "id": "1FE3uU31r2En"
      },
      "source": [
        "sale=json.dumps(sales)\n"
      ],
      "execution_count": 72,
      "outputs": []
    },
    {
      "cell_type": "code",
      "metadata": {
        "id": "sMtrq7dTbe_Y"
      },
      "source": [
        "fd=open(\"sale.json\",'a')\n",
        "fd.write(sale)\n",
        "fd.close()"
      ],
      "execution_count": 71,
      "outputs": []
    },
    {
      "cell_type": "code",
      "metadata": {
        "id": "s_L9RkC1xiPc"
      },
      "source": [
        ""
      ],
      "execution_count": null,
      "outputs": []
    },
    {
      "cell_type": "code",
      "metadata": {
        "id": "WkCzZBcOSQYF"
      },
      "source": [
        ""
      ],
      "execution_count": null,
      "outputs": []
    }
  ]
}